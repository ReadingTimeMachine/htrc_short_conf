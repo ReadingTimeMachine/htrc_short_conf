{
 "cells": [
  {
   "cell_type": "markdown",
   "id": "263c2f7e-b306-482b-bd2c-78d475def4b3",
   "metadata": {},
   "source": [
    "# Run detectron2 on jpeg's of papers\n",
    "\n",
    "Assumes you have:\n",
    "1. Run the ocr_and_image_processing_batch.py file to generate the JPEGs\n",
    "1. Run the `pull_check_makesense.ipynb` file to create annotation files, and then\n",
    "1. Annotated on MakeSense.ai and downloaded those annotations\n",
    "1. Run the `process_annotations.py` file to generate the yolo-style-XML anntation files\n",
    "\n",
    "Also, specific for this version of detectron2, you need the weights trained on [the PubLayNet dataset](https://github.com/JPLeoRX/detectron2-publaynet).  You can do this in the command line with:\n",
    "\n",
    "```\n",
    "wget https://raw.githubusercontent.com/hpanwar08/detectron2/master/configs/DLA_mask_rcnn_R_101_FPN_3x.yaml\n",
    "wget https://raw.githubusercontent.com/hpanwar08/detectron2/master/configs/DLA_mask_rcnn_R_50_FPN_3x.yaml\n",
    "wget https://raw.githubusercontent.com/hpanwar08/detectron2/master/configs/DLA_mask_rcnn_X_101_32x8d_FPN_3x.yaml\n",
    "wget https://raw.githubusercontent.com/facebookresearch/detectron2/main/configs/Base-RCNN-FPN.yaml\n",
    "```\n",
    "\n",
    "Make sure you save these weights in a folder where you remember!"
   ]
  },
  {
   "cell_type": "code",
   "execution_count": 1,
   "id": "3e1014ad-fae1-4d49-8c1f-08556adb9a3e",
   "metadata": {},
   "outputs": [],
   "source": [
    "detectron2_weights_dir = '/Users/jnaiman/Dropbox/wwt_image_extraction/FigureLocalization/BenchMarks/model_params/detectron2/'"
   ]
  },
  {
   "cell_type": "code",
   "execution_count": 2,
   "id": "e658f85f-e4c8-4d72-a695-40fb8b927760",
   "metadata": {},
   "outputs": [],
   "source": [
    "import argparse\n",
    "import glob\n",
    "import multiprocessing as mp\n",
    "import numpy as np\n",
    "import os\n",
    "import tempfile\n",
    "import time\n",
    "import warnings\n",
    "import cv2\n",
    "import tqdm\n",
    "\n",
    "from detectron2.config import get_cfg\n",
    "from detectron2.data.detection_utils import read_image\n",
    "from detectron2.utils.logger import setup_logger"
   ]
  },
  {
   "cell_type": "code",
   "execution_count": 3,
   "id": "d432c867-2d7c-49e9-88b8-a395a3dd83c6",
   "metadata": {},
   "outputs": [],
   "source": [
    "# import some common detectron2 utilities\n",
    "from detectron2 import model_zoo\n",
    "from detectron2.engine import DefaultPredictor\n",
    "from detectron2.config import get_cfg\n",
    "from detectron2.utils.visualizer import Visualizer\n",
    "from detectron2.data import MetadataCatalog, DatasetCatalog"
   ]
  },
  {
   "cell_type": "markdown",
   "id": "713ba013-f6e2-4b46-bdc6-0edf5cae91ef",
   "metadata": {},
   "source": [
    "Rename classes for the PubLayNet dataset:"
   ]
  },
  {
   "cell_type": "code",
   "execution_count": 4,
   "id": "01687772-d6bb-431b-b908-d9266aa5e6fc",
   "metadata": {},
   "outputs": [],
   "source": [
    "MetadataCatalog.get(\"dla_val\").thing_classes = ['text', 'title', 'list', 'table', 'figure']"
   ]
  },
  {
   "cell_type": "markdown",
   "id": "81a4dc22-26d6-4cb9-b48f-86c31c721ca4",
   "metadata": {},
   "source": [
    "General config file set up:"
   ]
  },
  {
   "cell_type": "code",
   "execution_count": 5,
   "id": "c1ccfed0-5ea6-422d-9484-987c0af7a83c",
   "metadata": {},
   "outputs": [],
   "source": [
    "def setup_cfg(configfile, weightsfile, processingType='cpu', confidence_threshold=0.5):\n",
    "    # load config from file and command-line arguments\n",
    "    cfg = get_cfg()\n",
    "    # To use demo for Panoptic-DeepLab, please uncomment the following two lines.\n",
    "    # from detectron2.projects.panoptic_deeplab import add_panoptic_deeplab_config  # noqa\n",
    "    # add_panoptic_deeplab_config(cfg)\n",
    "    cfg.merge_from_file(configfile)\n",
    "    argsList = ['MODEL.WEIGHTS',weightsfile, 'MODEL.DEVICE',processingType]\n",
    "    #print(argsList)\n",
    "    cfg.merge_from_list(argsList)\n",
    "    # Set score_threshold for builtin models\n",
    "    cfg.MODEL.RETINANET.SCORE_THRESH_TEST = confidence_threshold\n",
    "    cfg.MODEL.ROI_HEADS.SCORE_THRESH_TEST = confidence_threshold\n",
    "    cfg.MODEL.PANOPTIC_FPN.COMBINE.INSTANCES_CONFIDENCE_THRESH = confidence_threshold\n",
    "    cfg.freeze()\n",
    "    return cfg"
   ]
  },
  {
   "cell_type": "code",
   "execution_count": null,
   "id": "af34e498-fe33-4d3f-9997-32b705dad4fa",
   "metadata": {},
   "outputs": [],
   "source": []
  }
 ],
 "metadata": {
  "kernelspec": {
   "display_name": "Python 3 (ipykernel)",
   "language": "python",
   "name": "python3"
  },
  "language_info": {
   "codemirror_mode": {
    "name": "ipython",
    "version": 3
   },
   "file_extension": ".py",
   "mimetype": "text/x-python",
   "name": "python",
   "nbconvert_exporter": "python",
   "pygments_lexer": "ipython3",
   "version": "3.8.13"
  }
 },
 "nbformat": 4,
 "nbformat_minor": 5
}
