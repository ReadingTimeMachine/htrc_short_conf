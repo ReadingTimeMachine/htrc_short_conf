{
 "cells": [
  {
   "cell_type": "markdown",
   "id": "263c2f7e-b306-482b-bd2c-78d475def4b3",
   "metadata": {},
   "source": [
    "# Run detectron2 on jpeg's of papers\n",
    "\n",
    "Assumes you have:\n",
    "1. Run the ocr_and_image_processing_batch.py file to generate the JPEGs\n",
    "1. Run the `pull_check_makesense.ipynb` file to create annotation files, and then\n",
    "1. Annotated on MakeSense.ai and downloaded those annotations\n",
    "1. Run the `process_annotations.py` file to generate the yolo-style-XML anntation files\n",
    "\n",
    "Also, specific for this version of detectron2, you need the weights trained on [the PubLayNet dataset](https://github.com/JPLeoRX/detectron2-publaynet).  You can do this in the command line with:\n",
    "\n",
    "```\n",
    "wget https://raw.githubusercontent.com/hpanwar08/detectron2/master/configs/DLA_mask_rcnn_R_101_FPN_3x.yaml\n",
    "wget https://raw.githubusercontent.com/hpanwar08/detectron2/master/configs/DLA_mask_rcnn_R_50_FPN_3x.yaml\n",
    "wget https://raw.githubusercontent.com/hpanwar08/detectron2/master/configs/DLA_mask_rcnn_X_101_32x8d_FPN_3x.yaml\n",
    "wget https://raw.githubusercontent.com/facebookresearch/detectron2/main/configs/Base-RCNN-FPN.yaml\n",
    "```\n",
    "\n",
    "Make sure you save these weights in a folder where you remember!"
   ]
  },
  {
   "cell_type": "code",
   "execution_count": null,
   "id": "3e1014ad-fae1-4d49-8c1f-08556adb9a3e",
   "metadata": {},
   "outputs": [],
   "source": []
  }
 ],
 "metadata": {
  "kernelspec": {
   "display_name": "Python 3 (ipykernel)",
   "language": "python",
   "name": "python3"
  },
  "language_info": {
   "codemirror_mode": {
    "name": "ipython",
    "version": 3
   },
   "file_extension": ".py",
   "mimetype": "text/x-python",
   "name": "python",
   "nbconvert_exporter": "python",
   "pygments_lexer": "ipython3",
   "version": "3.8.13"
  }
 },
 "nbformat": 4,
 "nbformat_minor": 5
}
